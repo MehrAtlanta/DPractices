{
 "cells": [
  {
   "cell_type": "markdown",
   "id": "ecc0ba78",
   "metadata": {},
   "source": [
    "# Data Science Tools and Ecosystem"
   ]
  },
  {
   "cell_type": "markdown",
   "id": "74151210",
   "metadata": {},
   "source": [
    "In this notebook, Data Science Tools and Ecosystem are summarized."
   ]
  },
  {
   "cell_type": "markdown",
   "id": "5a212739",
   "metadata": {},
   "source": [
    "Some of the popular languages that Data Scientists use are:"
   ]
  },
  {
   "cell_type": "markdown",
   "id": "4d448544",
   "metadata": {},
   "source": [
    "1. Python \n",
    "2. SQL\n",
    "3. R"
   ]
  },
  {
   "cell_type": "markdown",
   "id": "e14cb7da",
   "metadata": {},
   "source": [
    "Some of the commonly used libraries used by Data Scientists include:"
   ]
  },
  {
   "cell_type": "markdown",
   "id": "29446039",
   "metadata": {},
   "source": [
    "1. Scikit which is a python library for ML modeling \n",
    "2. Matplotlib which is a data visualisation tool\n",
    "3. Ggplot2 which is a R library for data visualisation\n",
    "4. Panda which is a Python sientific library for data cleaning and analysing data"
   ]
  },
  {
   "cell_type": "markdown",
   "id": "62521e2a",
   "metadata": {},
   "source": [
    "  | Data Sience tools | \n",
    "  ------------------------\n",
    "   | Jupyter notebook |  \n",
    "   | R Studio |\n",
    "   |  IBM watson Studio |\n"
   ]
  },
  {
   "cell_type": "markdown",
   "id": "c1587f14",
   "metadata": {},
   "source": [
    "### Below are a few examples of evaluating arithmetic expressions in Python"
   ]
  },
  {
   "cell_type": "markdown",
   "id": "9f6014d8",
   "metadata": {},
   "source": [
    "This a simple arithmetic expression to mutiply then add integers"
   ]
  },
  {
   "cell_type": "code",
   "execution_count": 12,
   "id": "08398daf",
   "metadata": {},
   "outputs": [
    {
     "data": {
      "text/plain": [
       "17"
      ]
     },
     "execution_count": 12,
     "metadata": {},
     "output_type": "execute_result"
    }
   ],
   "source": [
    "(3*4)+5"
   ]
  },
  {
   "cell_type": "code",
   "execution_count": 17,
   "id": "1cb9e5da",
   "metadata": {},
   "outputs": [
    {
     "name": "stdout",
     "output_type": "stream",
     "text": [
      "3.3333333333333335\n"
     ]
    }
   ],
   "source": [
    "# This will convert 200 minutes to hours by diving by 60\n",
    "min = 200 \n",
    "hr = min/60\n",
    "print (hr)"
   ]
  },
  {
   "cell_type": "markdown",
   "id": "e7ef3a1f",
   "metadata": {},
   "source": [
    "**Objectives:**\n",
    "    . Getting familir with data science tools\n",
    "    . Getting familiar with popular languages in data science\n",
    "    . Start working with Development enviormet such as jupyter notebook & R studio \n",
    "    "
   ]
  },
  {
   "cell_type": "markdown",
   "id": "b64d4665",
   "metadata": {},
   "source": [
    "## Author \n",
    "Mehran Khodabakhshi"
   ]
  },
  {
   "cell_type": "code",
   "execution_count": null,
   "id": "029d3703",
   "metadata": {},
   "outputs": [],
   "source": []
  }
 ],
 "metadata": {
  "kernelspec": {
   "display_name": "Python 3 (ipykernel)",
   "language": "python",
   "name": "python3"
  },
  "language_info": {
   "codemirror_mode": {
    "name": "ipython",
    "version": 3
   },
   "file_extension": ".py",
   "mimetype": "text/x-python",
   "name": "python",
   "nbconvert_exporter": "python",
   "pygments_lexer": "ipython3",
   "version": "3.10.11"
  }
 },
 "nbformat": 4,
 "nbformat_minor": 5
}
